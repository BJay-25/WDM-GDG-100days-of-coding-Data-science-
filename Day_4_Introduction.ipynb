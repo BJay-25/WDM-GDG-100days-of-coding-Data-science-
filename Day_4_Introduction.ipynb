{
  "nbformat": 4,
  "nbformat_minor": 0,
  "metadata": {
    "colab": {
      "provenance": [],
      "authorship_tag": "ABX9TyNBINnBUbWBZpD5/80ag72Q",
      "include_colab_link": true
    },
    "kernelspec": {
      "name": "python3",
      "display_name": "Python 3"
    },
    "language_info": {
      "name": "python"
    }
  },
  "cells": [
    {
      "cell_type": "markdown",
      "metadata": {
        "id": "view-in-github",
        "colab_type": "text"
      },
      "source": [
        "<a href=\"https://colab.research.google.com/github/BJay-25/WTM-GDG-Bambili-100days-of-code-Datascience/blob/main/Day_4_Introduction.ipynb\" target=\"_parent\"><img src=\"https://colab.research.google.com/assets/colab-badge.svg\" alt=\"Open In Colab\"/></a>"
      ]
    },
    {
      "cell_type": "markdown",
      "source": [
        "Day 4 listings and arrays"
      ],
      "metadata": {
        "id": "ugndYy-5ioxP"
      }
    },
    {
      "cell_type": "code",
      "source": [
        "List1=['hello','world',2,4,6,8,5,'days','weeks','months',0.1,0.3,0.5,5.8,9.5]\n",
        "print(List1)"
      ],
      "metadata": {
        "id": "f0Xothjnin6G",
        "colab": {
          "base_uri": "https://localhost:8080/"
        },
        "outputId": "bb6b6fc3-6120-42a8-af01-b9d57d1bcfe3"
      },
      "execution_count": null,
      "outputs": [
        {
          "output_type": "stream",
          "name": "stdout",
          "text": [
            "['hello', 'world', 2, 4, 6, 8, 5, 'days', 'weeks', 'months', 0.1, 0.3, 0.5, 5.8, 9.5]\n"
          ]
        }
      ]
    },
    {
      "cell_type": "code",
      "source": [
        "var1=(\"Hello\" + \" world\")\n",
        "print(var1)"
      ],
      "metadata": {
        "colab": {
          "base_uri": "https://localhost:8080/"
        },
        "id": "IvRu56IWlNFy",
        "outputId": "f6130be5-7e28-4878-8833-63dc8b084431"
      },
      "execution_count": 53,
      "outputs": [
        {
          "output_type": "stream",
          "name": "stdout",
          "text": [
            "Hello world\n"
          ]
        }
      ]
    },
    {
      "cell_type": "code",
      "source": [
        "List1.append(var1)\n",
        "print(List1)"
      ],
      "metadata": {
        "colab": {
          "base_uri": "https://localhost:8080/"
        },
        "id": "gKHjPPn_lh07",
        "outputId": "01823c2f-10f7-42e1-c6a8-92bdd8092dd0"
      },
      "execution_count": 54,
      "outputs": [
        {
          "output_type": "stream",
          "name": "stdout",
          "text": [
            "['hello', 'world', 2, 4, 6, 8, 5, 'days', 'weeks', 'months', 0.1, 0.3, 0.5, 5.8, 9.5, 'Hello world']\n"
          ]
        }
      ]
    },
    {
      "cell_type": "markdown",
      "source": [
        "There's no output for newlist1. It could be because a variable cannot be added to a list or due to syntax errors using the+sign.\n",
        "The append command adds items like d variable to the list."
      ],
      "metadata": {
        "id": "xE9SfFfbm2EE"
      }
    },
    {
      "cell_type": "code",
      "source": [
        "list4=[1,2,3,4,5,0.2,0.4,0.5,0.8,0.9,0.79,'fruits', 'school','job','tasks']\n",
        "print (list4)"
      ],
      "metadata": {
        "colab": {
          "base_uri": "https://localhost:8080/"
        },
        "id": "tbVQxYPZok8L",
        "outputId": "3a2bf46a-e7c2-4adf-ffbc-142fb3268910"
      },
      "execution_count": 58,
      "outputs": [
        {
          "output_type": "stream",
          "name": "stdout",
          "text": [
            "[1, 2, 3, 4, 5, 0.2, 0.4, 0.5, 0.8, 0.9, 0.79, 'fruits', 'school', 'job', 'tasks']\n"
          ]
        }
      ]
    },
    {
      "cell_type": "code",
      "source": [
        "list1 = [\"Hello\", 1, \"world\", 2]\n",
        "list2 = [3, \"Good\", 4, \"day\"]\n",
        "list3 = list1 + list2\n",
        "print (list3)"
      ],
      "metadata": {
        "colab": {
          "base_uri": "https://localhost:8080/"
        },
        "id": "cFl3ix6AqBI_",
        "outputId": "f2b4ede9-cb33-4f82-8992-3b3e5fee9947"
      },
      "execution_count": 59,
      "outputs": [
        {
          "output_type": "stream",
          "name": "stdout",
          "text": [
            "['Hello', 1, 'world', 2, 3, 'Good', 4, 'day']\n"
          ]
        }
      ]
    },
    {
      "cell_type": "code",
      "source": [
        "\n",
        "#action item\n",
        "list5=List1+list4\n",
        "print (list5)"
      ],
      "metadata": {
        "colab": {
          "base_uri": "https://localhost:8080/"
        },
        "id": "dc_KUcNTqWc0",
        "outputId": "3c0da93a-ff6a-4be1-836d-ac0653cca97f"
      },
      "execution_count": 60,
      "outputs": [
        {
          "output_type": "stream",
          "name": "stdout",
          "text": [
            "['hello', 'world', 2, 4, 6, 8, 5, 'days', 'weeks', 'months', 0.1, 0.3, 0.5, 5.8, 9.5, 'Hello world', 1, 2, 3, 4, 5, 0.2, 0.4, 0.5, 0.8, 0.9, 0.79, 'fruits', 'school', 'job', 'tasks']\n"
          ]
        }
      ]
    },
    {
      "cell_type": "code",
      "source": [
        "#action item\n",
        "List2=[5, 6, 7.0, \"Eight\", \"Nine\"]\n",
        "print (List2)\n",
        "List3=List2\n",
        "print (List3)"
      ],
      "metadata": {
        "colab": {
          "base_uri": "https://localhost:8080/"
        },
        "id": "q352JpBvqqoD",
        "outputId": "caf2d4bf-04e2-4062-99f7-acd03cab053e"
      },
      "execution_count": 61,
      "outputs": [
        {
          "output_type": "stream",
          "name": "stdout",
          "text": [
            "[5, 6, 7.0, 'Eight', 'Nine']\n",
            "[5, 6, 7.0, 'Eight', 'Nine']\n"
          ]
        }
      ]
    }
  ]
}