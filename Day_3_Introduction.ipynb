{
  "nbformat": 4,
  "nbformat_minor": 0,
  "metadata": {
    "colab": {
      "provenance": [],
      "authorship_tag": "ABX9TyPRyFdKUlGE0Bi53Z9AufDW",
      "include_colab_link": true
    },
    "kernelspec": {
      "name": "python3",
      "display_name": "Python 3"
    },
    "language_info": {
      "name": "python"
    }
  },
  "cells": [
    {
      "cell_type": "markdown",
      "metadata": {
        "id": "view-in-github",
        "colab_type": "text"
      },
      "source": [
        "<a href=\"https://colab.research.google.com/github/BJay-25/WTM-GDG-Bambili-100days-of-code-Datascience/blob/main/Day_3_Introduction.ipynb\" target=\"_parent\"><img src=\"https://colab.research.google.com/assets/colab-badge.svg\" alt=\"Open In Colab\"/></a>"
      ]
    },
    {
      "cell_type": "code",
      "source": [
        "'''\n",
        "Day one was about creating repositories and pushing codes from Google collabs to them\n",
        "Day 2 creating vars,datatypes and naming of vars.\n",
        "'''\n",
        "#example of a variable\n",
        "sample_variable=None\n",
        "#this var is an empty var bcz there's no data in it(none)\n",
        "#let's specify different var names and see if they work\n",
        "#-new var =None,Even_numbers=None,Oddnumbers =None these var name could not work"
      ],
      "metadata": {
        "id": "cG-nTu7K7s5j"
      },
      "execution_count": null,
      "outputs": []
    },
    {
      "cell_type": "code",
      "source": [
        "\n",
        "sample_variable=('Hello World')\n",
        "#the text in bracket is known as a string it is an example of a data type\n",
        "#Other datatypes include floating wc r decimals,integers,binary e.t.c"
      ],
      "metadata": {
        "id": "k5c_U2rcSiwF"
      },
      "execution_count": null,
      "outputs": []
    },
    {
      "cell_type": "code",
      "source": [
        "print(sample_variable)"
      ],
      "metadata": {
        "colab": {
          "base_uri": "https://localhost:8080/"
        },
        "id": "lM5WUln-S_V1",
        "outputId": "19f9412e-b267-4084-9b7a-358849de4501"
      },
      "execution_count": null,
      "outputs": [
        {
          "output_type": "stream",
          "name": "stdout",
          "text": [
            "Hello World\n"
          ]
        }
      ]
    },
    {
      "cell_type": "code",
      "source": [
        "#Day 3 mathematical operations and how to perform calculations using python3 and how it relies on the CPU and GPU\n",
        "answer = 1 + 1\n",
        "print(answer)\n",
        "#the signs +and = are examples of operators wc r used for processing"
      ],
      "metadata": {
        "colab": {
          "base_uri": "https://localhost:8080/"
        },
        "id": "oHrs4Y0MWPOr",
        "outputId": "ad1b3147-67e3-4c66-a69b-3b62a813aeb3"
      },
      "execution_count": 9,
      "outputs": [
        {
          "output_type": "stream",
          "name": "stdout",
          "text": [
            "2\n"
          ]
        }
      ]
    },
    {
      "cell_type": "code",
      "source": [
        "Var1=2+2\n",
        "print (Var1)\n",
        "# the datatype 2+2 is an integer"
      ],
      "metadata": {
        "colab": {
          "base_uri": "https://localhost:8080/"
        },
        "id": "lL3D84m7XONH",
        "outputId": "2fab7efd-a1ba-4e7f-a139-972046c99554"
      },
      "execution_count": 16,
      "outputs": [
        {
          "output_type": "stream",
          "name": "stdout",
          "text": [
            "4\n"
          ]
        }
      ]
    },
    {
      "cell_type": "code",
      "source": [
        "Var2=3+2/5\n",
        "print (Var2)\n",
        "#data type floats with 3 operators i.e division, addition and equal to"
      ],
      "metadata": {
        "colab": {
          "base_uri": "https://localhost:8080/"
        },
        "id": "mn3qPbo_XZ2v",
        "outputId": "b13169a0-1cf7-46a6-8fc6-d238470c9d54"
      },
      "execution_count": 14,
      "outputs": [
        {
          "output_type": "stream",
          "name": "stdout",
          "text": [
            "3.4\n"
          ]
        }
      ]
    },
    {
      "cell_type": "code",
      "source": [
        "Var3=4*16\n",
        "print (Var3)\n",
        "#datatype integer"
      ],
      "metadata": {
        "colab": {
          "base_uri": "https://localhost:8080/"
        },
        "id": "IJbUZ94LX-2c",
        "outputId": "937e49f8-c3dd-4fad-df83-251c1699bf7a"
      },
      "execution_count": 12,
      "outputs": [
        {
          "output_type": "stream",
          "name": "stdout",
          "text": [
            "64\n"
          ]
        }
      ]
    },
    {
      "cell_type": "code",
      "source": [
        "Var4=4^6\n",
        "print (Var4)\n",
        "#datatype here is an integer with 2 operators"
      ],
      "metadata": {
        "colab": {
          "base_uri": "https://localhost:8080/"
        },
        "id": "VsXMHXkDYW5r",
        "outputId": "b2e70635-6d1b-49f3-ffa1-e6e555674c8f"
      },
      "execution_count": 17,
      "outputs": [
        {
          "output_type": "stream",
          "name": "stdout",
          "text": [
            "2\n"
          ]
        }
      ]
    },
    {
      "cell_type": "code",
      "source": [
        "Var5=('Hello' + ' ' + 'world')\n",
        "print (Var5)\n",
        "#the datatype here is a string linked together by the plus operator sign"
      ],
      "metadata": {
        "colab": {
          "base_uri": "https://localhost:8080/"
        },
        "id": "tWS4q3jZY2Jw",
        "outputId": "68f61ded-c3cb-4440-e187-a2dd862ad8ab"
      },
      "execution_count": 10,
      "outputs": [
        {
          "output_type": "stream",
          "name": "stdout",
          "text": [
            "Hello world\n"
          ]
        }
      ]
    },
    {
      "cell_type": "code",
      "source": [
        "Var6=('Hello World * 5')\n",
        "print (Var6)\n",
        "type(Var6)\n",
        "#datatype is a string"
      ],
      "metadata": {
        "colab": {
          "base_uri": "https://localhost:8080/"
        },
        "id": "OMdVVyWmZ5YJ",
        "outputId": "6f3e86a9-9026-4345-831a-29de943f6e85"
      },
      "execution_count": 20,
      "outputs": [
        {
          "output_type": "stream",
          "name": "stdout",
          "text": [
            "Hello World * 5\n"
          ]
        },
        {
          "output_type": "execute_result",
          "data": {
            "text/plain": [
              "str"
            ]
          },
          "metadata": {},
          "execution_count": 20
        }
      ]
    },
    {
      "cell_type": "markdown",
      "source": [
        "The type command shows the type of datatype that's in the variable"
      ],
      "metadata": {
        "id": "ittHn5mfdJKH"
      }
    },
    {
      "cell_type": "code",
      "source": [
        "Var7=(4mod3)\n",
        "print (Var7)"
      ],
      "metadata": {
        "colab": {
          "base_uri": "https://localhost:8080/",
          "height": 131
        },
        "id": "f0MjGRW9awAb",
        "outputId": "7266ddfe-5043-4ca5-f61f-5273dce74304"
      },
      "execution_count": 40,
      "outputs": [
        {
          "output_type": "error",
          "ename": "SyntaxError",
          "evalue": "ignored",
          "traceback": [
            "\u001b[0;36m  File \u001b[0;32m\"<ipython-input-40-c38b7c01f300>\"\u001b[0;36m, line \u001b[0;32m1\u001b[0m\n\u001b[0;31m    Var7=(4mod3)\u001b[0m\n\u001b[0m              ^\u001b[0m\n\u001b[0;31mSyntaxError\u001b[0m\u001b[0;31m:\u001b[0m invalid syntax\n"
          ]
        }
      ]
    },
    {
      "cell_type": "markdown",
      "source": [
        "The last variable Var7 does not produce the correct output when using the modulo operator due to a syntax error"
      ],
      "metadata": {
        "id": "wW-_hN4Ecc8g"
      }
    }
  ]
}