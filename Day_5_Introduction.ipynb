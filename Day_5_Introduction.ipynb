{
  "nbformat": 4,
  "nbformat_minor": 0,
  "metadata": {
    "colab": {
      "provenance": [],
      "authorship_tag": "ABX9TyOkFz87yV+5hm7rO+WZu02E",
      "include_colab_link": true
    },
    "kernelspec": {
      "name": "python3",
      "display_name": "Python 3"
    },
    "language_info": {
      "name": "python"
    }
  },
  "cells": [
    {
      "cell_type": "markdown",
      "metadata": {
        "id": "view-in-github",
        "colab_type": "text"
      },
      "source": [
        "<a href=\"https://colab.research.google.com/github/BJay-25/WTM-GDG-Bambili-100days-of-code-Datascience/blob/main/Day_5_Introduction.ipynb\" target=\"_parent\"><img src=\"https://colab.research.google.com/assets/colab-badge.svg\" alt=\"Open In Colab\"/></a>"
      ]
    },
    {
      "cell_type": "markdown",
      "source": [
        "Day 5 accessing elements in lists using their indexes and assigning them to variables"
      ],
      "metadata": {
        "id": "0OgAwhYWtKjp"
      }
    },
    {
      "cell_type": "code",
      "source": [
        "sample_list = [\"hello\", \"world\", \"how\", \"are\", \"you?\"]\n",
        "print (sample_list)\n",
        "var = sample_list[0]\n",
        "print (var)"
      ],
      "metadata": {
        "id": "F-wQhdCftJjy",
        "colab": {
          "base_uri": "https://localhost:8080/"
        },
        "outputId": "94bbec27-4877-40b1-e073-24ad006413cd"
      },
      "execution_count": null,
      "outputs": [
        {
          "output_type": "stream",
          "name": "stdout",
          "text": [
            "['hello', 'world', 'how', 'are', 'you?']\n",
            "hello\n"
          ]
        }
      ]
    },
    {
      "cell_type": "markdown",
      "source": [
        "Accessing a range of elements in lists and assigning the value of a ranged output list to a variable"
      ],
      "metadata": {
        "id": "NXn9JcjnuZV7"
      }
    },
    {
      "cell_type": "code",
      "source": [
        "print (sample_list[0:3])\n",
        "Var=sample_list[0:3]\n",
        "print (Var)"
      ],
      "metadata": {
        "id": "-TweF33Qucw5",
        "colab": {
          "base_uri": "https://localhost:8080/"
        },
        "outputId": "9d3f855a-cf81-4f6e-8b01-047bf31b665d"
      },
      "execution_count": null,
      "outputs": [
        {
          "output_type": "stream",
          "name": "stdout",
          "text": [
            "['hello', 'world', 'how']\n",
            "['hello', 'world', 'how']\n"
          ]
        }
      ]
    },
    {
      "cell_type": "code",
      "source": [
        "#Action item\n",
        "listindex=[2,4,6,8,10,12,14,16,18,20]\n",
        "print (listindex[0])"
      ],
      "metadata": {
        "id": "KaEZCkrnvhJB",
        "colab": {
          "base_uri": "https://localhost:8080/"
        },
        "outputId": "8d7f3d9e-c78b-4b04-93e6-b469b2d6db47"
      },
      "execution_count": 73,
      "outputs": [
        {
          "output_type": "stream",
          "name": "stdout",
          "text": [
            "2\n"
          ]
        }
      ]
    },
    {
      "cell_type": "code",
      "source": [
        "#Action item\n",
        "listindex=[2,4,6,8,10,12,14,16,18,20]\n",
        "print (listindex[9])"
      ],
      "metadata": {
        "colab": {
          "base_uri": "https://localhost:8080/"
        },
        "id": "f9r--XcUzQFE",
        "outputId": "11164a90-fe03-479a-f0cd-3e73adfca9c5"
      },
      "execution_count": 75,
      "outputs": [
        {
          "output_type": "stream",
          "name": "stdout",
          "text": [
            "20\n"
          ]
        }
      ]
    },
    {
      "cell_type": "code",
      "source": [
        "var1=listindex[5]\n",
        "print (var1)"
      ],
      "metadata": {
        "colab": {
          "base_uri": "https://localhost:8080/"
        },
        "id": "sr6-0GTpwlcq",
        "outputId": "41204184-993b-4b59-dcef-9e4de339188c"
      },
      "execution_count": 76,
      "outputs": [
        {
          "output_type": "stream",
          "name": "stdout",
          "text": [
            "12\n"
          ]
        }
      ]
    },
    {
      "cell_type": "code",
      "source": [
        "var_12=listindex[12]\n",
        "print (var_12)"
      ],
      "metadata": {
        "id": "loRo2qfL0bU3"
      },
      "execution_count": null,
      "outputs": []
    },
    {
      "cell_type": "markdown",
      "source": [
        "When we try to access the 12th element of the listindex, there's an error because there's no 12th element in the list"
      ],
      "metadata": {
        "id": "hnP2VYzl0MLf"
      }
    },
    {
      "cell_type": "code",
      "source": [
        "listindex2=listindex [3:6]\n",
        "print (listindex2)"
      ],
      "metadata": {
        "colab": {
          "base_uri": "https://localhost:8080/"
        },
        "id": "b2fIHqri04d_",
        "outputId": "9efc9886-a49f-440f-81d2-7bf853f161ff"
      },
      "execution_count": 80,
      "outputs": [
        {
          "output_type": "stream",
          "name": "stdout",
          "text": [
            "[8, 10, 12]\n"
          ]
        }
      ]
    }
  ]
}