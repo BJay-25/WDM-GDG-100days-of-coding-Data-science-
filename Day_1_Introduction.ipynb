{
  "nbformat": 4,
  "nbformat_minor": 0,
  "metadata": {
    "colab": {
      "provenance": [],
      "authorship_tag": "ABX9TyNnMhchRuMe6VcyWGIHP526",
      "include_colab_link": true
    },
    "kernelspec": {
      "name": "python3",
      "display_name": "Python 3"
    },
    "language_info": {
      "name": "python"
    }
  },
  "cells": [
    {
      "cell_type": "markdown",
      "metadata": {
        "id": "view-in-github",
        "colab_type": "text"
      },
      "source": [
        "<a href=\"https://colab.research.google.com/github/BJay-25/WTM-GDG-Bambili-100days-of-code-Datascience/blob/main/Day_1_Introduction.ipynb\" target=\"_parent\"><img src=\"https://colab.research.google.com/assets/colab-badge.svg\" alt=\"Open In Colab\"/></a>"
      ]
    },
    {
      "cell_type": "code",
      "source": [
        "print('Hello world')"
      ],
      "metadata": {
        "id": "5GmCVDiEvuLa",
        "outputId": "eb5b3bca-81bc-4f1f-d146-83e333dacf49",
        "colab": {
          "base_uri": "https://localhost:8080/"
        }
      },
      "execution_count": null,
      "outputs": [
        {
          "output_type": "stream",
          "name": "stdout",
          "text": [
            "Hello world\n"
          ]
        }
      ]
    },
    {
      "cell_type": "code",
      "source": [
        "'''\n",
        "Day one was about creating repositories and pushing codes from Google collabs to them\n",
        "Day 2 creating vars,datatypes and naming of vars.\n",
        "'''\n",
        "#example of a variable\n",
        "sample_variable=None\n",
        "#this var is an empty var bcz there's no data in it(none)\n",
        "#let's specify different var names and see if they work\n",
        "#-new var =None,Even_numbers=None,Oddnumbers =None these var name could not work"
      ],
      "metadata": {
        "id": "cG-nTu7K7s5j"
      },
      "execution_count": 7,
      "outputs": []
    },
    {
      "cell_type": "code",
      "source": [
        "\n",
        "sample_variable=('Hello World')\n",
        "#the text in bracket is known as a string it is an example of a data type\n",
        "#Other datatypes include floating wc r decimals,integers,binary e.t.c"
      ],
      "metadata": {
        "id": "k5c_U2rcSiwF"
      },
      "execution_count": 6,
      "outputs": []
    },
    {
      "cell_type": "code",
      "source": [
        "print(sample_variable)"
      ],
      "metadata": {
        "colab": {
          "base_uri": "https://localhost:8080/"
        },
        "id": "lM5WUln-S_V1",
        "outputId": "19f9412e-b267-4084-9b7a-358849de4501"
      },
      "execution_count": 3,
      "outputs": [
        {
          "output_type": "stream",
          "name": "stdout",
          "text": [
            "Hello World\n"
          ]
        }
      ]
    }
  ]
}